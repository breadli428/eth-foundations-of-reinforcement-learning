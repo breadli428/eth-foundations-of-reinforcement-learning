{
 "cells": [
  {
   "cell_type": "markdown",
   "metadata": {},
   "source": [
    "# Foundations of Reinforcement Learning 2021 - Assignment 3"
   ]
  },
  {
   "cell_type": "markdown",
   "metadata": {},
   "source": [
    "In this assignment, you will implement the REINFORCE and A2C algorithms shown in the lectures for solving reinforcement learning tasks. The implementations will be tested first on a simplistic toy RL problem (similar to grid world) and then on a more non-trivial robotic control task on the [OpenAI Gym](https://gym.openai.com/), i.e.,\n",
    "- a 7x7 deterministic grid world,\n",
    "- the [CartPole](https://gym.openai.com/envs/CartPole-v1/) environment.\n",
    "\n",
    "You will get hands-on experience in implementing and testing reinforcement learning algorithms in practice, as well as using neural networks for function approximation.\n",
    "You will also get the chance to see how your algorithms learn over many iterations and compare the two algorithms, as well as exploration-exploitation considerations.\n",
    "\n",
    "We have implemented a skeleton notebook and the places you need to fill in is marked with `TODO` comments or clearly stated in the context. \n",
    "To get started, prepare your Python environment following the instructions in `Readme`."
   ]
  },
  {
   "cell_type": "code",
   "execution_count": 55,
   "metadata": {},
   "outputs": [],
   "source": [
    "import torch\n",
    "import torch.nn as nn\n",
    "import torch.optim as optim\n",
    "from torch.distributions.categorical import Categorical\n",
    "\n",
    "import matplotlib.pyplot as plt\n",
    "from matplotlib.table import Table\n",
    "\n",
    "import time\n",
    "import numpy as np\n",
    "\n",
    "import gym\n",
    "from gym import wrappers"
   ]
  },
  {
   "cell_type": "markdown",
   "metadata": {},
   "source": [
    "## Part 1: Gridworld with REINFORCE (50 points)"
   ]
  },
  {
   "cell_type": "markdown",
   "metadata": {},
   "source": [
    "Firstly, you will implement the algorithms in the GridWorld environment. The agent starts from the center, and the four actions left, right, up and down move the agent in the appropriate directions deterministically. The corner states are terminal and have the corresponding rewards.\n",
    "\n",
    "**In this part, you should only use `numpy` operations (i.e., no automated differentiation with PyTorch).**"
   ]
  },
  {
   "cell_type": "markdown",
   "metadata": {},
   "source": [
    "### The Gridworld Environment"
   ]
  },
  {
   "cell_type": "markdown",
   "metadata": {},
   "source": [
    "We already provide a basic implementation of the grid world environment which you will use,\n",
    "as well as the constants `ACTION_LEFT, ACTION_RIGHT, ACTION_UP, ACTION_DOWN`.\n",
    "You do not need to modify the class `GridWorld`."
   ]
  },
  {
   "cell_type": "code",
   "execution_count": 56,
   "metadata": {
    "jupyter": {
     "source_hidden": true
    },
    "tags": []
   },
   "outputs": [],
   "source": [
    "ACTION_LEFT = 0\n",
    "ACTION_RIGHT = 1\n",
    "ACTION_UP = 2\n",
    "ACTION_DOWN = 3\n",
    "\n",
    "def clip(x, a, b):\n",
    "    if x < a:\n",
    "        return a\n",
    "    if x > b:\n",
    "        return b\n",
    "    \n",
    "    return x\n",
    "\n",
    "class GridWorld:\n",
    "    \n",
    "    def __init__(self, size=3):\n",
    "        self.size = size\n",
    "        self.state = [0,0]\n",
    "        self.actions = [ACTION_LEFT, ACTION_RIGHT, ACTION_UP, ACTION_DOWN]\n",
    "        \n",
    "    def reset_world(self):\n",
    "        self.state = [0,0]\n",
    "    \n",
    "    def is_terminal(self):\n",
    "        return abs(self.state[0]) == self.size and abs(self.state[1]) == self.size\n",
    "    \n",
    "    def get_current_reward(self):\n",
    "        if self.state == [self.size, self.size] or \\\n",
    "           self.state == [-self.size, -self.size]:\n",
    "            return -1\n",
    "        elif self.state == [-self.size, self.size] or \\\n",
    "             self.state == [self.size, -self.size]:\n",
    "            return +1\n",
    "        else:\n",
    "            return 0\n",
    "        \n",
    "    def list_actions(self):\n",
    "        return self.actions\n",
    "    \n",
    "    def step(self, action):\n",
    "        if action not in self.actions:\n",
    "            raise NotImplementedError(\"Action not defined\")\n",
    "            \n",
    "        if self.is_terminal():\n",
    "            raise NotImplementedError(\"Episode terminated! Call reset_world first.\")\n",
    "\n",
    "        if action == ACTION_LEFT:\n",
    "            self.state[0] = clip(self.state[0]-1, -self.size, self.size)\n",
    "            \n",
    "        elif action == ACTION_RIGHT:\n",
    "            self.state[0] = clip(self.state[0]+1, -self.size, self.size)\n",
    "            \n",
    "        elif action == ACTION_UP:\n",
    "            self.state[1] = clip(self.state[1]+1, -self.size, self.size)\n",
    "            \n",
    "        elif action == ACTION_DOWN:\n",
    "            self.state[1] = clip(self.state[1]-1, -self.size, self.size)\n",
    "        \n",
    "    def get_coordinates(self):\n",
    "        s = np.array(self.state)\n",
    "        s[0] = s[0] + self.size\n",
    "        s[1] = self.size - s[1]\n",
    "        \n",
    "        return s\n",
    "    \n",
    "    def get_state(self):\n",
    "        return self.get_coordinates()[0] + \\\n",
    "               self.get_coordinates()[1] * (self.size * 2 + 1)\n",
    "    \n",
    "    def render_state(self):\n",
    "        N = self.size\n",
    "        x = self.state[0]\n",
    "        y = self.state[1]\n",
    "\n",
    "        fig, ax = plt.subplots(figsize=(5,5))\n",
    "        ax.set_axis_off()\n",
    "\n",
    "        tb = Table(ax, bbox=[0,0, 1, 1])\n",
    "\n",
    "        row_labels = np.arange(2 * N + 1)\n",
    "        col_labels = np.arange(2 * N + 1)\n",
    "        width, height = .5, .5\n",
    "\n",
    "        values = np.zeros((N*2+1, N*2+1))\n",
    "        values[0,0] = values[-1, -1] = 1\n",
    "        values[-1,0] = values[0, -1] = -1\n",
    "\n",
    "        cell_colors = ('white', 'whitesmoke')\n",
    "        font_colors = ('black', 'white')\n",
    "\n",
    "        for (row_idx, col_idx), cell_val in np.ndenumerate(values):\n",
    "            idx = (col_idx + row_idx) % 2\n",
    "            if cell_val !=  0.:\n",
    "                text = \"%.1f\" % cell_val\n",
    "                if cell_val > 0:\n",
    "                    c = \"lightblue\"\n",
    "                else:\n",
    "                    c = \"lightcoral\"\n",
    "            elif row_idx == N and col_idx == N:\n",
    "                text = \"start\"\n",
    "                c = \"antiquewhite\"\n",
    "            else:\n",
    "                text = \"\"\n",
    "                c = cell_colors[idx]\n",
    "\n",
    "            tb.add_cell(row_idx, col_idx, width, height,\n",
    "                        text=text,\n",
    "                        loc='center',\n",
    "                        facecolor=c)\n",
    "\n",
    "        for (row_idx, col_idx), cell_val in np.ndenumerate(values):\n",
    "            idx = (col_idx + row_idx) % 2\n",
    "            tb._cells[(row_idx, col_idx)]._text.set_color(font_colors[idx])\n",
    "\n",
    "        pos = plt.Circle((0.5 + 1/(2 * N + 1) * x, 0.5 + 1/(2 * N + 1) * y + .04), 0.01, color='black')\n",
    "        ax.add_patch(pos)\n",
    "        ax.add_table(tb)"
   ]
  },
  {
   "cell_type": "code",
   "execution_count": 57,
   "metadata": {},
   "outputs": [
    {
     "data": {
      "image/png": "[encoded data removed]",
      "text/plain": [
       "<Figure size 360x360 with 1 Axes>"
      ]
     },
     "metadata": {
      "needs_background": "light"
     },
     "output_type": "display_data"
    }
   ],
   "source": [
    "# You can plot the environment with render_state()\n",
    "GridWorld().render_state()"
   ]
  },
  {
   "cell_type": "code",
   "execution_count": 58,
   "metadata": {},
   "outputs": [
    {
     "data": {
      "image/png": "[encoded data removed]",
      "text/plain": [
       "<Figure size 360x360 with 1 Axes>"
      ]
     },
     "metadata": {
      "needs_background": "light"
     },
     "output_type": "display_data"
    }
   ],
   "source": [
    "# The state after the agent takes actions\n",
    "world = GridWorld()\n",
    "world.reset_world()\n",
    "world.step(ACTION_RIGHT)\n",
    "world.step(ACTION_DOWN)\n",
    "world.step(ACTION_DOWN)\n",
    "world.step(ACTION_DOWN)\n",
    "world.render_state()"
   ]
  },
  {
   "cell_type": "code",
   "execution_count": 59,
   "metadata": {},
   "outputs": [
    {
     "data": {
      "text/plain": [
       "46"
      ]
     },
     "execution_count": 59,
     "metadata": {},
     "output_type": "execute_result"
    }
   ],
   "source": [
    "# cells/states are numbered from 0 to 48, left to right, top to bottom\n",
    "world.get_state()"
   ]
  },
  {
   "cell_type": "code",
   "execution_count": 60,
   "metadata": {},
   "outputs": [
    {
     "data": {
      "text/plain": [
       "array([4, 6])"
      ]
     },
     "execution_count": 60,
     "metadata": {},
     "output_type": "execute_result"
    }
   ],
   "source": [
    "# for convenience, cells are given coordinates left to right, top to bottom\n",
    "world.get_coordinates()"
   ]
  },
  {
   "cell_type": "markdown",
   "metadata": {},
   "source": [
    "### Direct Parameterisation"
   ]
  },
  {
   "cell_type": "markdown",
   "metadata": {},
   "source": [
    "In this task, we will parametrise our policy using a direct softmax parametrisation.\n",
    "$$\n",
    "\\pi_\\theta(a|s) = \\frac{\\exp{\\theta^\\top \\phi_{s,a}}}{\\sum_a {\\exp{\\theta^\\top \\phi_{s,a}}}}\n",
    "$$\n",
    "We will assume that the vectors $\\phi_{s,a} \\in \\mathbb{R}^{|\\mathcal{S}||\\mathcal{A}|}$ are encoded as standard unit basis vectors (i.e., one-hot encoding).\n",
    "First, we will create an appropriate encoding function for the states in the gridworld.\n",
    "\n",
    "For consistency, we assume the actions are mapped to integers with `ACTION_LEFT=0, ACTION_RIGHT=1, ACTION_UP=2, ACTION_DOWN=3`, and the cell states are given values from 0 to 48, starting from left to right, from the top row to the bottom row. \n",
    "Note that `GridWorld.get_state()` implements the correct order on grid cells.\n",
    "$\\phi_{s,a}$ is assumed to be the unit vector with only entry at position $4\\times s + a$ equal to 1."
   ]
  },
  {
   "cell_type": "markdown",
   "metadata": {},
   "source": [
    "<b style=\"color:red\"> Question 1.1 (5 points): </b> Create a function `get_features_onehot` that encodes each $\\phi_{s,a}$ with a one hot encoded vector in $\\mathbb{R}^{|\\mathcal{S}||\\mathcal{A}|} = \\mathbb{R}^{196}$ as a numpy vector."
   ]
  },
  {
   "cell_type": "code",
   "execution_count": 61,
   "metadata": {},
   "outputs": [],
   "source": [
    "def get_features_onehot(state:int, action:int):\n",
    "    \"\"\"Given the tuple (x,y) indicating the coordinates on the grid world, return one hot encoded features\n",
    "    \n",
    "    Assume actions are numbered from 0 to 3, and states are numbered from 0 to 48\n",
    "    as explained above.\n",
    "    \"\"\"\n",
    "    \n",
    "    ## TODO: you should implement this function for question 1.1\n",
    "    features_onehot = np.zeros(196)\n",
    "    features_onehot[4 * state + action] = 1\n",
    "    return features_onehot"
   ]
  },
  {
   "cell_type": "markdown",
   "metadata": {},
   "source": [
    "<b style=\"color:red\"> Question 1.2 (5 points): </b> Implement an initialisation for the parameters $\\theta \\in \\mathbb{R}^{196}$ as a numpy vector that you think is appropriate for efficient exploration."
   ]
  },
  {
   "cell_type": "code",
   "execution_count": 62,
   "metadata": {},
   "outputs": [],
   "source": [
    "def get_initial_parameters():\n",
    "    \"\"\"Returns vector of size 196 of initial parameters theta\"\"\"\n",
    "    \n",
    "    ## TODO: you should implement this function for question 1.2\n",
    "    return np.zeros(196)"
   ]
  },
  {
   "cell_type": "markdown",
   "metadata": {},
   "source": [
    "<b style=\"color:red\"> Question 1.3 (5 points): </b> \n",
    "Calculate the partial derivatives $\\frac{\\partial \\pi_\\theta(a|s)}{\\partial \\theta}$.\n",
    "First, write down the analytic formula for the derivative using latex in the cell below (you do not need to show your computation steps).\n",
    "Then, using your expression fill in `direct_parameterisation_derivative`, that will return the vector $\\frac{\\partial \\pi_\\theta(a|s)}{\\partial \\theta}$ given a value of $\\theta$ and action-state pair $a,s$.\n",
    "\n",
    "**Hint:** For the analytic part, you may write down the formula for $\\frac{\\partial \\pi_\\theta(a|s)}{\\partial \\theta_{a',s'}}$, i.e., the partial derivative with respect to the entry of $\\theta$ corresponding to any action-state pair $a', s'$.\n",
    "\n",
    "**Hint:** The function `direct_parameterisation_derivative` should return a vector of size $4 |S| = 4 \\times 7^2=196$, since you have 4 actions and $7^2$ states.\n",
    "\n",
    "**Hint:** Only 4 entries of $\\frac{\\partial \\pi_\\theta(a|s)}{\\partial \\theta} \\in \\mathbb{R}^{196}$ should be nonzero for fixed $a,s$."
   ]
  },
  {
   "cell_type": "markdown",
   "metadata": {},
   "source": [
    "*enter your formula here using latex*"
   ]
  },
  {
   "cell_type": "code",
   "execution_count": 63,
   "metadata": {},
   "outputs": [],
   "source": [
    "def direct_parameterisation_gradient(action: int, state: int, theta):\n",
    "    \"\"\"Returns the partial derivatives of the policy with respect to theta\n",
    "    \n",
    "    Assume actions are numbered from 0 to 3, and states are numbered from 0 to 48\n",
    "    as explained above.\n",
    "    \"\"\"\n",
    "    \n",
    "    grad = np.zeros(196)\n",
    "    \n",
    "    ## TODO: enter you implementation here\n",
    "    def pi_theta(state, action):\n",
    "        deno = 0\n",
    "        for a in range(4):\n",
    "            deno += np.exp(np.sum(theta * get_features_onehot(state, a)))\n",
    "        return np.exp(np.sum(theta * get_features_onehot(state, action))) / deno\n",
    "    \n",
    "    agg = 0\n",
    "    for a in range(4):\n",
    "        agg += pi_theta(state, a) * get_features_onehot(state, a)\n",
    "    grad = pi_theta(state, action) * (get_features_onehot(state, action) - agg)\n",
    "    return grad"
   ]
  },
  {
   "cell_type": "markdown",
   "metadata": {},
   "source": [
    "The code below helps you check if your derivative implementation is correct.\n",
    "In case your implementation works, the code should print success.\n",
    "You should not modify the cell below."
   ]
  },
  {
   "cell_type": "code",
   "execution_count": 64,
   "metadata": {
    "scrolled": true
   },
   "outputs": [
    {
     "name": "stdout",
     "output_type": "stream",
     "text": [
      "Success: errors within tolerance. Mean abs. error: 2.1750211723220673e-08\n"
     ]
    }
   ],
   "source": [
    "## checks the code above\n",
    "torch.manual_seed(0)\n",
    "success = True\n",
    "N = 10\n",
    "err = 0.\n",
    "\n",
    "for i in range(N):\n",
    "    theta = torch.rand((4*49))\n",
    "    theta.requires_grad = True\n",
    "    \n",
    "    for state in range(49):\n",
    "        for action in range(4):\n",
    "            by_state = torch.exp(theta).reshape(49,4)\n",
    "            out_prob = by_state / by_state.sum(-1, keepdim=True)\n",
    "            out_prob.reshape(-1)[action + state*4].backward()\n",
    "\n",
    "            answer = direct_parameterisation_gradient(action, state, theta.detach().numpy())\n",
    "            \n",
    "            err += np.abs(answer - theta.grad.numpy()).sum()\n",
    "            \n",
    "            if not np.allclose(answer, theta.grad.numpy()):\n",
    "                success = False\n",
    "                \n",
    "            theta.grad.zero_()\n",
    "    \n",
    "if success:\n",
    "    print(f\"Success: errors within tolerance. Mean abs. error: {err / (4 * 49 * N)}\")\n",
    "else:\n",
    "    print(f\"Fail: errors not within tolerance. Mean abs. error: {err / (4 * 49 * N)}\")\n",
    "    \n",
    "del theta, by_state, out_prob, answer"
   ]
  },
  {
   "cell_type": "markdown",
   "metadata": {},
   "source": [
    "### REINFORCE Implementation"
   ]
  },
  {
   "cell_type": "markdown",
   "metadata": {},
   "source": [
    "<b style=\"color:red\"> Question 1.4 (5 points): </b>\n",
    "In the lectures, you have been introduced to the REINFORCE algorithm.\n",
    "Explain in two sentences what the regular REINFORCE objective aims to optimise and how this is achieved only using samples and no prior information on the MDP dynamics."
   ]
  },
  {
   "cell_type": "markdown",
   "metadata": {},
   "source": [
    "*REINFORCE aims to optimize the expected episodic reward collected by the policy we are trying to optimize over.*\n",
    "\n",
    "*By using the logarithm trick, we split out the initial state distribution and the transition probabilities of the MDP which do not depend on the policy parameter $\\theta$. Taking a derivative of the logarithm of the trajectory probability with respect to $\\theta$ eliminates such prior information on MDP dynamics.*"
   ]
  },
  {
   "cell_type": "markdown",
   "metadata": {},
   "source": [
    "<b style=\"color:red\"> Question 1.5 (10 points): </b>\n",
    "Using your functions implemented in questions 1.1, 1.2, 1.3, fill in the `ReinforceLearner` class.\n",
    "You can use the already implemented methods of the `GridWorld` class:\n",
    "- `reset_world`: reset the world to starting state\n",
    "- `is_terminal`: is the current state terminal\n",
    "- `get_current_reward`: reward of the current state\n",
    "- `step`: given an action among `ACTION_LEFT, ACTION_RIGHT, ACTION_UP, ACTION_DOWN`, takes a step in the simulation\n",
    "- `get_state`: get current state, as an integer from 0 to 48\n",
    "- `get_coordinates`: get current coordinates in table as a tuple (x,y)\n",
    "- `render_state`: render the current state of the grid world, useful for debugging\n",
    "\n",
    "**Hint:** You do not need to implement an exploration strategy with the appropriate intialisation, so only vanilla policy gradient steps should be sufficient for convergence with an appropriate learning rate."
   ]
  },
  {
   "cell_type": "code",
   "execution_count": 65,
   "metadata": {},
   "outputs": [],
   "source": [
    "class ReinforceLearner:\n",
    "\n",
    "    def __init__(self, learning_rate, gamma):\n",
    "        \"\"\"Intialisation code\"\"\"\n",
    "        \n",
    "        self.world = GridWorld()\n",
    "        self.learning_rate = learning_rate\n",
    "        self.gamma = gamma\n",
    "        self.theta = get_initial_parameters()\n",
    "        \n",
    "        ## TODO: you may use other variables or inputs as you hyper-parameters\n",
    "        \n",
    "    def get_action_prob(self, state:int):\n",
    "        \"\"\"Given the state, return the probability of taking each of the 4 actions\"\"\"\n",
    "        \n",
    "        ## TODO: your implementation\n",
    "        action_prob = np.zeros(4)\n",
    "        deno = 0\n",
    "        for a in range(4):\n",
    "            deno += np.exp(np.sum(self.theta * get_features_onehot(state, a)))\n",
    "        \n",
    "        for a in range(4):\n",
    "            action_prob[a] = np.exp(np.sum(self.theta * get_features_onehot(state, a))) / deno\n",
    "        return action_prob\n",
    "    \n",
    "    def train(self, n_updates:int, n_trajectories:int):\n",
    "        \"\"\"Run the training procedure for n_updates steps\n",
    "        \n",
    "        n_trajectories: how many trajectories should be sampled each REINFORCE step\n",
    "        n_updates: how many parameters updates to make (each parameter update would sample n_trajectories)\"\"\"\n",
    "        \n",
    "        rewards = []\n",
    "        for episode in range(n_updates):\n",
    "            rewards.append(self.reinforce_step(n_trajectories))\n",
    "                \n",
    "        return rewards\n",
    "        \n",
    "    def reinforce_step(self, n_trajectories:int):\n",
    "        \"\"\"Run a single gradient step for REINFORCE using n_trajectories many trajectories for estimation.\n",
    "        \n",
    "        Also return the average reward observed\"\"\"\n",
    "        \n",
    "        ## TODO: your implementation       \n",
    "        rew_buf = np.zeros((n_trajectories, 1))\n",
    "        score_buf = np.zeros((n_trajectories, 196))\n",
    "        for traj in range(n_trajectories):\n",
    "            self.world.reset_world()\n",
    "            t = 0\n",
    "            while not self.world.is_terminal():\n",
    "                s = self.world.get_state()\n",
    "                action_prob = self.get_action_prob(s)\n",
    "                a = np.random.choice(self.world.actions, p=action_prob)\n",
    "                phi_exp = 0\n",
    "                for action in self.world.actions:\n",
    "                    phi_exp += get_features_onehot(s, action) * action_prob[action]\n",
    "                score = get_features_onehot(s, a) - phi_exp\n",
    "                score_buf[traj] += score\n",
    "                self.world.step(a)\n",
    "                rew_buf[traj] += self.gamma ** t * self.world.get_current_reward()\n",
    "                t += 1\n",
    "            \n",
    "        rew_mean = np.mean(rew_buf, axis=0)\n",
    "        grad = np.mean(score_buf * rew_buf, axis=0)\n",
    "        self.theta += self.learning_rate * grad\n",
    "        return rew_mean\n",
    "        \n",
    "    def evaluate(self):\n",
    "        \"\"\"Evaluate current algorithm for a single episode and return.\n",
    "        \n",
    "        You should \n",
    "        (a) Print the total reward from the episode.\n",
    "        (b) Visualise the whole state history. (Hint: You can use multiple calls to GridWorld.render_state())\"\"\"\n",
    "        \n",
    "        ## TODO: your implementation\n",
    "        self.world.reset_world()\n",
    "        t = 0\n",
    "        ret = 0\n",
    "        while not self.world.is_terminal():\n",
    "            s = self.world.get_state()\n",
    "            action_prob = self.get_action_prob(s)\n",
    "            a = np.random.choice(self.world.actions, p=action_prob)\n",
    "            self.world.step(a)\n",
    "            self.world.render_state()\n",
    "            ret += self.gamma ** t * self.world.get_current_reward()\n",
    "            t += 1\n",
    "        print(\"Total reward of the episode is {}\".format(ret))"
   ]
  },
  {
   "cell_type": "markdown",
   "metadata": {},
   "source": [
    "### Evaluation"
   ]
  },
  {
   "cell_type": "markdown",
   "metadata": {},
   "source": [
    "<b style=\"color:red\"> Question 1.6 (10 points): </b> Run the above code until convergence, and evaluate your strategy at the end.\n",
    "Plot the average reward observed per epoch during training.\n",
    "You may need to tune your hyper-parameters."
   ]
  },
  {
   "cell_type": "code",
   "execution_count": 66,
   "metadata": {},
   "outputs": [
    {
     "name": "stdout",
     "output_type": "stream",
     "text": [
      "Total reward of the episode is 1\n"
     ]
    },
    {
     "data": {
      "image/png": "[encoded data removed]",
      "text/plain": [
       "<Figure size 360x360 with 1 Axes>"
      ]
     },
     "metadata": {
      "needs_background": "light"
     },
     "output_type": "display_data"
    },
    {
     "data": {
      "image/png": "[encoded data removed]",
      "text/plain": [
       "<Figure size 360x360 with 1 Axes>"
      ]
     },
     "metadata": {
      "needs_background": "light"
     },
     "output_type": "display_data"
    },
    {
     "data": {
      "image/png": "[encoded data removed]",
      "text/plain": [
       "<Figure size 360x360 with 1 Axes>"
      ]
     },
     "metadata": {
      "needs_background": "light"
     },
     "output_type": "display_data"
    },
    {
     "data": {
      "image/png": "[encoded data removed]",
      "text/plain": [
       "<Figure size 360x360 with 1 Axes>"
      ]
     },
     "metadata": {
      "needs_background": "light"
     },
     "output_type": "display_data"
    },
    {
     "data": {
      "image/png": "[encoded data removed]",
      "text/plain": [
       "<Figure size 360x360 with 1 Axes>"
      ]
     },
     "metadata": {
      "needs_background": "light"
     },
     "output_type": "display_data"
    },
    {
     "data": {
      "image/png": "[encoded data removed]",
      "text/plain": [
       "<Figure size 360x360 with 1 Axes>"
      ]
     },
     "metadata": {
      "needs_background": "light"
     },
     "output_type": "display_data"
    },
    {
     "data": {
      "image/png": "[encoded data removed]",
      "text/plain": [
       "<Figure size 360x360 with 1 Axes>"
      ]
     },
     "metadata": {
      "needs_background": "light"
     },
     "output_type": "display_data"
    },
    {
     "data": {
      "image/png": "[encoded data removed]",
      "text/plain": [
       "<Figure size 360x360 with 1 Axes>"
      ]
     },
     "metadata": {
      "needs_background": "light"
     },
     "output_type": "display_data"
    },
    {
     "data": {
      "image/png": "[encoded data removed]",
      "text/plain": [
       "<Figure size 360x360 with 1 Axes>"
      ]
     },
     "metadata": {
      "needs_background": "light"
     },
     "output_type": "display_data"
    },
    {
     "data": {
      "image/png": "[encoded data removed]",
      "text/plain": [
       "<Figure size 360x360 with 1 Axes>"
      ]
     },
     "metadata": {
      "needs_background": "light"
     },
     "output_type": "display_data"
    },
    {
     "data": {
      "image/png": "[encoded data removed]",
      "text/plain": [
       "<Figure size 360x360 with 1 Axes>"
      ]
     },
     "metadata": {
      "needs_background": "light"
     },
     "output_type": "display_data"
    },
    {
     "data": {
      "image/png": "[encoded data removed]",
      "text/plain": [
       "<Figure size 360x360 with 1 Axes>"
      ]
     },
     "metadata": {
      "needs_background": "light"
     },
     "output_type": "display_data"
    }
   ],
   "source": [
    "## TODO: your implementation for 1.5, you can modify\n",
    "\n",
    "learner = ReinforceLearner(learning_rate=0.5, gamma=1)\n",
    "rewards = learner.train(n_updates=100, n_trajectories=100)\n",
    "learner.evaluate()"
   ]
  },
  {
   "cell_type": "code",
   "execution_count": 67,
   "metadata": {},
   "outputs": [
    {
     "data": {
      "text/plain": [
       "[<matplotlib.lines.Line2D at 0x7fe5eaf2cca0>]"
      ]
     },
     "execution_count": 67,
     "metadata": {},
     "output_type": "execute_result"
    },
    {
     "data": {
      "image/png": "[encoded data removed]",
      "text/plain": [
       "<Figure size 432x288 with 1 Axes>"
      ]
     },
     "metadata": {
      "needs_background": "light"
     },
     "output_type": "display_data"
    }
   ],
   "source": [
    "## TODO: plot your rewards for 1.5, you can modify\n",
    "\n",
    "plt.figure()\n",
    "plt.plot(rewards)"
   ]
  },
  {
   "cell_type": "markdown",
   "metadata": {},
   "source": [
    "### Additional Questions"
   ]
  },
  {
   "cell_type": "markdown",
   "metadata": {},
   "source": [
    "<b style=\"color:red\"> Question 1.7 (5 points): </b>\n",
    "The code above for REINFORCE does not implement an explicit exploration strategy.\n",
    "Explain how the exploration-exploitation trade-off was circumvented by your choice of parameters intialisation in two sentences, and how this approach could fail for some other initialisation strategies."
   ]
  },
  {
   "cell_type": "markdown",
   "metadata": {},
   "source": [
    "*By initializing all entries of $\\theta$ to be zero, we get a uniform policy, where it is equally possible to sample actions towards any of the four directions at each state. Such a stochastic policy would encourage the agent to explore the state-action space in paricular during its first visit at one state.*\n",
    "\n",
    "*If we initialize entries of $\\theta$ arbitrarily, it might happen that at certain state, the action corresponding to a relatively small value of entry of $\\theta$ will never be sampled by the actor in finite steps. In this case, this specific state-action pair will never be explored and the corresponding entry of $\\theta$ will never be updated.*"
   ]
  },
  {
   "cell_type": "markdown",
   "metadata": {},
   "source": [
    "<b style=\"color:red\"> Question 1.8 (5 points): </b> In 2 sentences explain the shortcomings of the direct parametrisation."
   ]
  },
  {
   "cell_type": "markdown",
   "metadata": {},
   "source": [
    "*When dealing with large state or action spaces or with continuous problems, a direct parameterization will cause memory explosion to store parameters for each of the state-action pairs. It is also slow to learn each entry individually as opposed to learn parameters of a function or neural network that accommodates all states, especially in the case where we need to generalize to states with rare observations or new states.*"
   ]
  },
  {
   "cell_type": "markdown",
   "metadata": {},
   "source": [
    "## Part 2: CartPole with A2C (50 points)\n",
    "\n",
    "In this second part, you will implement a neural network based agent trained with A2C on a more involved robotics task.\n",
    "Unlike the first part, you will use automated gradients via PyTorch."
   ]
  },
  {
   "cell_type": "markdown",
   "metadata": {
    "jp-MarkdownHeadingCollapsed": true,
    "tags": []
   },
   "source": [
    "### OpenGym Intro\n",
    "\n",
    "First, we provide a quick introduction to OpenAI Gym.\n",
    "This part does not include questions, as is intended to introduce basic concepts of the Gym library."
   ]
  },
  {
   "cell_type": "markdown",
   "metadata": {},
   "source": [
    "We will use the environment [CartPole](https://gym.openai.com/envs/CartPole-v1/) in this assignment.\n",
    "You can find detailed explanations and a visualization in the link we provided.\n",
    "In the environment, a pole is attached by an un-actuated joint to a cart, which moves along a frictionless track. \n",
    "The system is controlled by applying a force of +1 or -1 to the cart. \n",
    "The pendulum starts upright, and the goal is to prevent it from falling over. \n",
    "A reward of +1 is provided for every timestep that the pole remains upright. \n",
    "The episode ends when the pole is more than 15 degrees from vertical, or the cart moves more than 2.4 units from the center. \n",
    "The following cells show how to interact with this environment."
   ]
  },
  {
   "cell_type": "code",
   "execution_count": 68,
   "metadata": {},
   "outputs": [],
   "source": [
    "# use make() to create an environment for CartPole\n",
    "env = gym.make('CartPole-v1')"
   ]
  },
  {
   "cell_type": "markdown",
   "metadata": {},
   "source": [
    "There are two discrete actions available, i.e. applying a force of either +1 or -1."
   ]
  },
  {
   "cell_type": "code",
   "execution_count": 69,
   "metadata": {},
   "outputs": [
    {
     "data": {
      "text/plain": [
       "Discrete(2)"
      ]
     },
     "execution_count": 69,
     "metadata": {},
     "output_type": "execute_result"
    }
   ],
   "source": [
    "env.action_space"
   ]
  },
  {
   "cell_type": "markdown",
   "metadata": {},
   "source": [
    "The state space contains four real numbers in given intervals. It is explained by the predefined `Box` class. The first entry indicates the lower bound and the second entry shows the upper bound. For example, for CartPole, the first value of the state is within (-4.8,4.8), and the second is in (-3.40e38, 3.40e38), etc."
   ]
  },
  {
   "cell_type": "code",
   "execution_count": 70,
   "metadata": {},
   "outputs": [
    {
     "data": {
      "text/plain": [
       "Box([-4.8000002e+00 -3.4028235e+38 -4.1887903e-01 -3.4028235e+38], [4.8000002e+00 3.4028235e+38 4.1887903e-01 3.4028235e+38], (4,), float32)"
      ]
     },
     "execution_count": 70,
     "metadata": {},
     "output_type": "execute_result"
    }
   ],
   "source": [
    "env.observation_space"
   ]
  },
  {
   "cell_type": "markdown",
   "metadata": {},
   "source": [
    "Here is an example of playing a random policy in this environment."
   ]
  },
  {
   "cell_type": "code",
   "execution_count": 71,
   "metadata": {},
   "outputs": [
    {
     "name": "stdout",
     "output_type": "stream",
     "text": [
      "Episode terminated after 18 steps\n"
     ]
    }
   ],
   "source": [
    "max_len = 100 # maximal length of one episode\n",
    "\n",
    "# use reset() to reinitialize a new episode and get an initial state\n",
    "state = env.reset()\n",
    "\n",
    "for t in range(max_len):\n",
    "    # use render() to display the current state\n",
    "    env.render()    \n",
    "    \n",
    "    # randomly sample an action in the action space\n",
    "    action = env.action_space.sample()\n",
    "    \n",
    "    # use step() to interact with the gym environment\n",
    "    # given current state and action, return next state and reward\n",
    "    # is_terminal indicates whether a terminal state is reached, debug_info contains some debug information\n",
    "    next_state, reward, is_terminal, debug_info = env.step(action)\n",
    "    \n",
    "    if is_terminal:\n",
    "        print(\"Episode terminated after {} steps\".format(t + 1))\n",
    "        break\n",
    "\n",
    "# remember this when you finish\n",
    "env.close()"
   ]
  },
  {
   "cell_type": "markdown",
   "metadata": {
    "jp-MarkdownHeadingCollapsed": true,
    "tags": []
   },
   "source": [
    "### PyTorch Intro\n",
    "\n",
    "We also introduce basic functionality for PyTorch.\n",
    "PyTorch is a widely used automatic differentiation library, which is very useful for training neural networks.\n",
    "This part is also for guidance and does not include questions.\n",
    "While we do introduce the basics of PyTorch, you are encouraged to explore more about the library following the official [tutorials](https://pytorch.org/tutorials/beginner/basics/intro.html) in case you haven't used it before."
   ]
  },
  {
   "cell_type": "markdown",
   "metadata": {},
   "source": [
    "PyTorch is built on top of the class `torch.Tensor`, which implements many operations on vectors, matrices and higher dimensional tensors.\n",
    "The functionality of operations on torch tensors closely mirrors the operations from the `numpy` package."
   ]
  },
  {
   "cell_type": "code",
   "execution_count": 72,
   "metadata": {},
   "outputs": [
    {
     "data": {
      "text/plain": [
       "tensor([0., 0., 0., 0., 0.])"
      ]
     },
     "execution_count": 72,
     "metadata": {},
     "output_type": "execute_result"
    }
   ],
   "source": [
    "torch.zeros(5)"
   ]
  },
  {
   "cell_type": "code",
   "execution_count": 73,
   "metadata": {},
   "outputs": [
    {
     "data": {
      "text/plain": [
       "tensor([[1., 2.],\n",
       "        [3., 4.]])"
      ]
     },
     "execution_count": 73,
     "metadata": {},
     "output_type": "execute_result"
    }
   ],
   "source": [
    "a_matrix = [[1., 2.],[3., 4.]]\n",
    "torch.tensor(a_matrix)"
   ]
  },
  {
   "cell_type": "code",
   "execution_count": 74,
   "metadata": {},
   "outputs": [
    {
     "data": {
      "text/plain": [
       "tensor([14., 32.])"
      ]
     },
     "execution_count": 74,
     "metadata": {},
     "output_type": "execute_result"
    }
   ],
   "source": [
    "torch.matmul(torch.tensor(a_matrix), \n",
    "             torch.tensor([4., 5.]))"
   ]
  },
  {
   "cell_type": "markdown",
   "metadata": {},
   "source": [
    "What makes torch special is that it implements automated differentiation by tracking the operation history on tensors.\n",
    "Namely, if a `torch.Tensor` has the propery `.requires_grad` set to `True`, torch will automatically track operations made on that tensor.\n",
    "A final `.backward()` call to a computation result will compute partial derivatives of the variable with respect to all tensors in the tracked computational graph.\n",
    "This is particularly useful for tracking derivatives with respect to a loss function, to enable simple gradient descent."
   ]
  },
  {
   "cell_type": "code",
   "execution_count": 75,
   "metadata": {},
   "outputs": [
    {
     "name": "stdout",
     "output_type": "stream",
     "text": [
      "tensor(0.1459, grad_fn=<BinaryCrossEntropyWithLogitsBackward0>)\n"
     ]
    }
   ],
   "source": [
    "# example from https://pytorch.org/tutorials/beginner/basics/autogradqs_tutorial.html\n",
    "\n",
    "x = torch.ones(5)  # input tensor\n",
    "y = torch.zeros(3)  # expected output\n",
    "w = torch.randn(5, 3, requires_grad=True)\n",
    "b = torch.randn(3, requires_grad=True)\n",
    "z = torch.matmul(x, w)+b\n",
    "loss = torch.nn.functional.binary_cross_entropy_with_logits(z, y)\n",
    "print(loss)"
   ]
  },
  {
   "cell_type": "code",
   "execution_count": 76,
   "metadata": {},
   "outputs": [
    {
     "data": {
      "text/plain": [
       "tensor([[0.0111, 0.0153, 0.1001],\n",
       "        [0.0111, 0.0153, 0.1001],\n",
       "        [0.0111, 0.0153, 0.1001],\n",
       "        [0.0111, 0.0153, 0.1001],\n",
       "        [0.0111, 0.0153, 0.1001]])"
      ]
     },
     "execution_count": 76,
     "metadata": {},
     "output_type": "execute_result"
    }
   ],
   "source": [
    "# differentiate with respect to loss\n",
    "loss.backward()\n",
    "# the computed partial derivatives of w\n",
    "w.grad"
   ]
  },
  {
   "cell_type": "markdown",
   "metadata": {},
   "source": [
    "To prevent tracking history, you can also wrap a piece of code in`with torch.no_grad():`. \n",
    "This can be particularly helpful when evaluating a model on new data, when training (and hence differentiation) is not required."
   ]
  },
  {
   "cell_type": "markdown",
   "metadata": {},
   "source": [
    "For more advanced modelling (as will be required by this exercise), it is usually useful to implement classes as children of `nn.Module`.\n",
    "These implement the function `forward`, which returns the output of the forward pass of a model given inputs.\n",
    "Modules have `nn.Parameter`, which will be the trainable parameters of the models.\n",
    "Most useful sub-modules are already provided by the torch package: see for instance `nn.Linear`."
   ]
  },
  {
   "cell_type": "markdown",
   "metadata": {},
   "source": [
    "Finally, torch implements many standard optimizers: for instance `torch.optim.SGD`, `torch.optim.Adam`.\n",
    "These are typically used to automatically take care of training once partial derivatives are computed."
   ]
  },
  {
   "cell_type": "markdown",
   "metadata": {
    "tags": []
   },
   "source": [
    "### Advantage Actor-Critic (A2C)"
   ]
  },
  {
   "cell_type": "markdown",
   "metadata": {},
   "source": [
    "A more stable alternative to vanilla policy gradients via REINFORCE is the so-called A2C algorithm.\n",
    "First, you should familiarise yourself with the A2C algorithm reading the original [paper](https://arxiv.org/pdf/1602.01783.pdf).\n",
    "\n",
    "<b style=\"color:red\"> Question 2.1 (10 points): </b> Explain in a few sentences each, \n",
    "\n",
    "1. how the A2C algorithm addresses the shortcomings of vanilla policy gradient methods,\n",
    "2. the difference between A2C and A3C,\n",
    "3. why the A3C algorithm could be expected to perform even better than A2C."
   ]
  },
  {
   "cell_type": "markdown",
   "metadata": {},
   "source": [
    "*1. Vanilla policy gradient methods (REINFORCE) uses an unbiased estimate of the gradient of the expected return to update the policy parameterization. This estimate in general has a high variance due to stochasticity in different trajectories. A2C algorithm reduces the variance of this estimate while keeping it unbiased by using an estimate of the advantage function, where a learned value function estimate is subtracted as a baseline.*\n",
    "\n",
    "*2. The key difference from A2C is the asynchronous implementation. A3C consists of multiple independent agents with their own thread-specific parameters, who interact with a different copy of the environment in parallel. The agents are trained in parallel and update periodically a global network, which holds shared parameters. The updates are not happening simultaneously. After each update, the agents resets their parameters to those of the global network and continue their independent exploration and training for $n$ steps until they update themselves again.*\n",
    "\n",
    "*3. A3C achieves substantial speedups from using multiple worker threads as opposed to A2C. This confirms that A3C scales well with the number of parallel workers, making efficient use of resources and increasing the diversity of training data. In addition, A3C is also very robust to the choice of learning rate and random initialization.*"
   ]
  },
  {
   "cell_type": "markdown",
   "metadata": {},
   "source": [
    "### Neural Network Parametrization\n",
    "\n",
    "We will use neural networks to parameterize both the value function and the policy.\n",
    "The `Actor_Net` defines the policy $\\pi_\\theta(a|s)$. Given state $s$ as input, it will output a distribution over the action space. \n",
    "The `Critic_Net` defines the approximation to the value function, which could be denoted $\\hat{V}_w(s)$. \n",
    "\n",
    "You can play with different network architectures and the [activation](https://pytorch.org/docs/stable/nn.html) functions.\n",
    "Note that the `Actor_Net` should produce a probability distribution over the action space."
   ]
  },
  {
   "cell_type": "markdown",
   "metadata": {},
   "source": [
    "<b style=\"color:red\"> Question 2.2 (10 points): </b>\n",
    "Design your own neural networks in the code block below."
   ]
  },
  {
   "cell_type": "code",
   "execution_count": 77,
   "metadata": {},
   "outputs": [],
   "source": [
    "class Actor_Net(nn.Module):\n",
    "    def __init__(self, num_state, num_action):\n",
    "        super(Actor_Net, self).__init__()\n",
    "        \n",
    "        # TODO: you should implement your model here\n",
    "        # see torch.nn.Sequential, for a hint\n",
    "        hidden_sizes = [64, 64]\n",
    "        sizes = [num_state] + list(hidden_sizes) + [num_action]\n",
    "        activation = nn.Tanh\n",
    "        output_activation = nn.Softmax\n",
    "        layers = []\n",
    "        for j in range(len(sizes)-1):\n",
    "            act = activation if j < len(sizes)-2 else output_activation\n",
    "            layers += [nn.Linear(sizes[j], sizes[j+1]), act()]\n",
    "        self.model = nn.Sequential(*layers)\n",
    "       \n",
    "    # return a probability distribution over the action space\n",
    "    def forward(self, state):\n",
    "        return self.model(state)\n",
    "\n",
    "\n",
    "class Critic_Net(nn.Module):\n",
    "    def __init__(self, num_state):\n",
    "        super(Critic_Net, self).__init__()\n",
    "        \n",
    "        # TODO: you should implement your model here\n",
    "        # see torch.nn.Sequential, for a hint\n",
    "        hidden_sizes = [64, 64]\n",
    "        sizes = [num_state] + list(hidden_sizes) + [1]\n",
    "        activation = nn.ReLU\n",
    "        output_activation = nn.Identity\n",
    "        layers = []\n",
    "        for j in range(len(sizes)-1):\n",
    "            act = activation if j < len(sizes)-2 else output_activation\n",
    "            layers += [nn.Linear(sizes[j], sizes[j+1]), act()]\n",
    "        self.model = nn.Sequential(*layers) \n",
    "       \n",
    "    # return a single value\n",
    "    def forward(self, state):\n",
    "        return self.model(state)"
   ]
  },
  {
   "cell_type": "markdown",
   "metadata": {
    "tags": []
   },
   "source": [
    "### Learning in a Continuous Environment\n",
    "\n",
    "We train both the actor and critic nets by interacting with the environment.\n",
    "You should fill in the marked places below to implement the A2C training process."
   ]
  },
  {
   "cell_type": "markdown",
   "metadata": {},
   "source": [
    "<b style=\"color:red\"> Question 2.3 (30 points): </b>\n",
    "Fill in the code below (the parts marked `TODO`) to implement A2C in the CartPole environment.\n",
    "You should play with your hyper-parameters as well, to enable efficient learning.\n",
    "You may play with different learning rates and optimizers.\n",
    "For different optimizers in PyTorch, see [here](https://pytorch.org/docs/stable/optim.html)."
   ]
  },
  {
   "cell_type": "code",
   "execution_count": 78,
   "metadata": {},
   "outputs": [],
   "source": [
    "# initiate both nets\n",
    "actor = Actor_Net(env.observation_space.shape[0], \n",
    "                  env.action_space.n)\n",
    "critic = Critic_Net(env.observation_space.shape[0])\n",
    "\n",
    "# set gamma and learning rates\n",
    "gamma = 0.99\n",
    "actor_lr = 1e-3\n",
    "critic_lr = 1e-3\n",
    "\n",
    "# TODO: also play with different optimizers\n",
    "actor_opt = optim.Adam(actor.parameters(), lr=actor_lr)\n",
    "critic_opt = optim.Adam(critic.parameters(), lr=critic_lr)"
   ]
  },
  {
   "cell_type": "code",
   "execution_count": 79,
   "metadata": {
    "scrolled": true
   },
   "outputs": [
    {
     "name": "stdout",
     "output_type": "stream",
     "text": [
      "Training time: 307.03s\n"
     ]
    }
   ],
   "source": [
    "start_time = time.time()\n",
    "max_iter = 1000\n",
    "max_episode_len = 1000\n",
    "total_reward = []\n",
    "\n",
    "for num_iter in range(max_iter):\n",
    "    # at each iteration, we roll out an episode using current policy until it reach termination state or the maximum length\n",
    "    reward = []\n",
    "    value_buf = []\n",
    "    log_p_buf = []\n",
    "    \n",
    "    s = env.reset()\n",
    "    for t in range(max_episode_len):\n",
    "        # given current state, the actor outputs two values as probability for each action\n",
    "        state = torch.tensor(s, dtype=torch.float).view(1, -1)\n",
    "        prob = actor(state)\n",
    "        # create the distribution as current policy\n",
    "        pi = Categorical(prob)\n",
    "        # sample one action from this policy\n",
    "        a = pi.sample()\n",
    "        \n",
    "        # interact with the environment\n",
    "        s, r, is_terminal, _ = env.step(a.item())      \n",
    "        reward.append(r)\n",
    "        \n",
    "        # TODO: what information will be used\n",
    "        # hints: outputs of the actor and critic nets\n",
    "        value = critic(state)\n",
    "        value_buf.append(value)\n",
    "        log_p = pi.log_prob(a)\n",
    "        log_p_buf.append(log_p)\n",
    "        \n",
    "        if is_terminal:\n",
    "            break\n",
    "            \n",
    "    # store total_reward\n",
    "    total_reward.append(sum(reward))\n",
    "    \n",
    "    # TODO: use the episode to update parameters\n",
    "    # for the actor, you can use policy gradient method (with baseline), what is the loss\n",
    "    # for the critic, you can use Monte-Carlo, TD(0), TD(\\lambda), what is the loss\n",
    "    \n",
    "    returns = torch.zeros(len(reward) + 1)\n",
    "    advantage = torch.zeros(len(reward))\n",
    "    value = torch.cat(value_buf)\n",
    "    log_p = torch.cat(log_p_buf)\n",
    "    \n",
    "    \n",
    "    for t in reversed(range(len(reward))):\n",
    "        returns[t] = reward[t] + gamma * returns[t + 1]\n",
    "        advantage[t] = returns[t] - value[t]\n",
    "    \n",
    "    \n",
    "    # TODO: add your implementation here\n",
    "    actor_loss = -(log_p * advantage.detach()).mean()\n",
    "    critic_loss = (torch.square(advantage)).mean()\n",
    "    \n",
    "    actor_opt.zero_grad()\n",
    "    critic_opt.zero_grad()\n",
    "    \n",
    "    actor_loss.backward()\n",
    "    critic_loss.backward()\n",
    "    \n",
    "    actor_opt.step()\n",
    "    critic_opt.step()\n",
    "\n",
    "env.close()\n",
    "print('Training time: {:.2f}s'.format(time.time() - start_time))"
   ]
  },
  {
   "cell_type": "markdown",
   "metadata": {},
   "source": [
    "**Useful hints:**\n",
    "\n",
    "1. See [here](https://pytorch.org/docs/stable/distributions.html) for distributions in PyTorch. You may find the function `log_prob()` useful. You can easily compute $\\log\\pi(a|s)$ and its gradient using the function.\n",
    "\n",
    "2. To optimize a model in PyTorch, you first define the loss function, then call the corresponding optimizer and perform backpropagation. For example, to optimize over the value function approximation, first let $\\text{loss}=\\|V_w-V^\\pi\\|^2$ and then call `loss.backward()` to compute the gradient.\n",
    "\n",
    "3. You may find the function `detach()` defined in PyTorch useful if you need to call `backward()` multiple times on the same variables without storing the computational graph every time.\n",
    "\n",
    "4. Maximizing $f(x)$ is equivalent to minimizing $-f(x)$. The default optimizers in PyTorch perform minimization.\n",
    "\n",
    "5. You may find the classes `torch.nn.Softmax`, `torch.nn.ReLU`, `torch.nn.Tanh` useful when implementing a neural network architecture.\n",
    "\n",
    "6. You may experiment with epsilon greedy and possibly different decay rates for the epsilon parameter."
   ]
  },
  {
   "cell_type": "markdown",
   "metadata": {},
   "source": [
    "**Analysing your results:**\n",
    "\n",
    "You can run the codes below to test your algorithm.\n",
    "These will help you understand if your algorithm is working, and will help us grade your implementation."
   ]
  },
  {
   "cell_type": "code",
   "execution_count": 80,
   "metadata": {},
   "outputs": [
    {
     "name": "stderr",
     "output_type": "stream",
     "text": [
      "/home/breadli428/anaconda3/envs/forl/lib/python3.8/site-packages/torch/nn/modules/container.py:141: UserWarning: Implicit dimension choice for softmax has been deprecated. Change the call to include dim=X as an argument.\n",
      "  input = module(input)\n"
     ]
    },
    {
     "name": "stdout",
     "output_type": "stream",
     "text": [
      "Episode 0 terminated after 500 steps\n"
     ]
    },
    {
     "name": "stderr",
     "output_type": "stream",
     "text": [
      "/home/breadli428/anaconda3/envs/forl/lib/python3.8/site-packages/torch/nn/modules/container.py:141: UserWarning: Implicit dimension choice for softmax has been deprecated. Change the call to include dim=X as an argument.\n",
      "  input = module(input)\n"
     ]
    },
    {
     "name": "stdout",
     "output_type": "stream",
     "text": [
      "Episode 1 terminated after 500 steps\n",
      "Episode 2 terminated after 500 steps\n",
      "Episode 3 terminated after 500 steps\n",
      "Episode 4 terminated after 500 steps\n",
      "Episode 5 terminated after 500 steps\n",
      "Episode 6 terminated after 500 steps\n",
      "Episode 7 terminated after 500 steps\n"
     ]
    },
    {
     "name": "stderr",
     "output_type": "stream",
     "text": [
      "/home/breadli428/anaconda3/envs/forl/lib/python3.8/site-packages/torch/nn/modules/container.py:141: UserWarning: Implicit dimension choice for softmax has been deprecated. Change the call to include dim=X as an argument.\n",
      "  input = module(input)\n"
     ]
    },
    {
     "name": "stdout",
     "output_type": "stream",
     "text": [
      "Episode 8 terminated after 500 steps\n",
      "Episode 9 terminated after 500 steps\n"
     ]
    }
   ],
   "source": [
    "# the results will be saved as videos, but make sure you have ffmpeg installed.\n",
    "# on mac, you can do this with brew: brew install ffmpeg\n",
    "# on Ubuntu: sudo apt install ffmpeg\n",
    "\n",
    "env = wrappers.Monitor(env, './results', force=True)\n",
    "for num_episode in range(10):\n",
    "    s = env.reset()\n",
    "    for t in range(max_episode_len):\n",
    "        env.render()\n",
    "\n",
    "        state = torch.tensor(s, dtype=torch.float).view(1, -1)\n",
    "        prob = actor(state)\n",
    "        policy = Categorical(prob)\n",
    "        action = policy.sample()\n",
    "\n",
    "        s, r, is_terminal, _ = env.step(action.item())\n",
    "        if is_terminal:\n",
    "            print(\"Episode {} terminated after {} steps\".format(num_episode, t+1))\n",
    "            break\n",
    "env.close()"
   ]
  },
  {
   "cell_type": "markdown",
   "metadata": {},
   "source": [
    "We use a simple criteria to judge whether you solve the problem.\n",
    "We will compute an average of the total reward of the previous 100 episodes at each iteration.\n",
    "If there exists an iteration with average total reward larger than a threshold, as shown below, we will give you full grades.\n",
    "That is, the problem is solved when the average reward is greater than or equal to 475 over 100 consecutive trials.\n",
    "\n",
    "Note that `CartPole-v1` has a termination condition of 500 timesteps. It’s done so that one episode doesn’t take forever.\n",
    "So we say that if a policy can balance a pole for 500 time steps (and achieve 500 reward) it’s probably good enough."
   ]
  },
  {
   "cell_type": "code",
   "execution_count": 86,
   "metadata": {},
   "outputs": [
    {
     "name": "stdout",
     "output_type": "stream",
     "text": [
      "Successfully solve the problem in 437 iterations.\n"
     ]
    },
    {
     "data": {
      "image/png": "[encoded data removed]",
      "text/plain": [
       "<Figure size 432x288 with 1 Axes>"
      ]
     },
     "metadata": {
      "needs_background": "light"
     },
     "output_type": "display_data"
    }
   ],
   "source": [
    "# this code should print success\n",
    "success_flag = False\n",
    "buffer_len = 100\n",
    "buffer_sum = sum(total_reward[:buffer_len])\n",
    "avg_reward = [buffer_sum / buffer_len]\n",
    "\n",
    "for num_iter in range(buffer_len, max_iter):\n",
    "    buffer_sum += total_reward[num_iter]\n",
    "    buffer_sum -= total_reward[num_iter - buffer_len]\n",
    "    buffer_avg = buffer_sum / buffer_len\n",
    "    avg_reward.append(buffer_avg)\n",
    "    \n",
    "    if buffer_avg >= env.spec.reward_threshold and not success_flag:\n",
    "        print('Successfully solve the problem in {} iterations.'.format(num_iter + 1))\n",
    "        success_flag = True\n",
    "        \n",
    "if not success_flag:\n",
    "    print('Unfortunately the agent is not smart enough.')\n",
    "\n",
    "# plot the average reward curve through the training process\n",
    "plt.plot(range(buffer_len-1, max_iter), avg_reward)\n",
    "plt.show()"
   ]
  },
  {
   "cell_type": "markdown",
   "metadata": {
    "tags": []
   },
   "source": [
    "### Bonus: Entropy regularized A2C\n",
    "\n",
    "The exploration-exploition trade-off is also a significant problem to be solved in the context of policy gradients.\n",
    "There have been numerous approaches in literature aimed towards maximizing exploration in a principled and theoretically meaningful manner.\n",
    "One such example is the entropy regularised policy gradient objective:\n",
    "$$\n",
    "J_\\tau(\\theta) = J(\\theta) + \\tau \\mathbb{E}_{s \\sim d^\\pi_s}\\left[-\\sum_a \\pi_\\theta(a|s) \\log \\pi_\\theta(a|s)\\right],\n",
    "$$\n",
    "where $J(\\theta)$ is the vanilla policy gradient objective and $\\tau$ is a hyperparameter controlling regularisation."
   ]
  },
  {
   "cell_type": "markdown",
   "metadata": {},
   "source": [
    "Use entropy regularisation on the CartPole task.\n",
    "Implement a new loss function that returns your modified loss with entropy regularization.\n",
    "Also feel free to explore different values of $\\tau$ and it's effect on the policy optimization process."
   ]
  },
  {
   "cell_type": "markdown",
   "metadata": {},
   "source": [
    "<b style=\"color:red\"> Bonus Question (15 points): </b>\n",
    "Explain why entropy regularization makes sense for encouraging exploration.\n",
    "Then modify the training code from above to demonstrate A2C with entropy regularization"
   ]
  },
  {
   "cell_type": "markdown",
   "metadata": {},
   "source": [
    "*Entropy denotes the uncertainty of a random variable. Under RL settings, entropy refers to the predictability of the actions of an agent. By implementing entropy regularization on the actor policy distribution, we can encourage the randomness when the agent takes an action while maintaining the previously maximized expected return. This will help the algorithm aviod getting stuck in a local optimum because of not exploring the behavior of other actions and never finding the global optimum.*"
   ]
  },
  {
   "cell_type": "code",
   "execution_count": 82,
   "metadata": {},
   "outputs": [
    {
     "name": "stdout",
     "output_type": "stream",
     "text": [
      "Training time: 456.40s\n"
     ]
    }
   ],
   "source": [
    "# TODO: implement entropy regularized A2C and compare your results with the previous model\n",
    "\n",
    "start_time = time.time()\n",
    "max_iter = 1000\n",
    "max_episode_len = 1000\n",
    "total_reward_with_entropy = []\n",
    "\n",
    "for num_iter in range(max_iter):\n",
    "    # at each iteration, we roll out an episode using current policy until it reach termination state or the maximum length\n",
    "    reward = []\n",
    "    value_buf = []\n",
    "    log_p_buf = []\n",
    "    entropy_buf = []\n",
    "    \n",
    "    s = env.reset()\n",
    "    for t in range(max_episode_len):\n",
    "        # given current state, the actor outputs two values as probability for each action\n",
    "        state = torch.tensor(s, dtype=torch.float).view(1, -1)\n",
    "        prob = actor(state)\n",
    "        # create the distribution as current policy\n",
    "        pi = Categorical(prob)\n",
    "        # sample one action from this policy\n",
    "        a = pi.sample()\n",
    "        \n",
    "        # interact with the environment\n",
    "        s, r, is_terminal, _ = env.step(a.item())      \n",
    "        reward.append(r)\n",
    "        \n",
    "        # hints: outputs of the actor and critic nets\n",
    "        value = critic(state)\n",
    "        value_buf.append(value)\n",
    "        log_p = pi.log_prob(a)\n",
    "        log_p_buf.append(log_p)\n",
    "        entropy_buf.append(pi.entropy())\n",
    "        \n",
    "        if is_terminal:\n",
    "            break\n",
    "            \n",
    "    # store total_reward_with_entropy\n",
    "    total_reward_with_entropy.append(sum(reward))\n",
    "    \n",
    "    # for the actor, you can use policy gradient method (with baseline), what is the loss\n",
    "    # for the critic, you can use Monte-Carlo, TD(0), TD(\\lambda), what is the loss\n",
    "    # also collect entropy\n",
    "    \n",
    "    returns = torch.zeros(len(reward) + 1)\n",
    "    advantage = torch.zeros(len(reward))\n",
    "    value = torch.cat(value_buf)\n",
    "    log_p = torch.cat(log_p_buf)\n",
    "    entropy = torch.cat(entropy_buf)\n",
    "    \n",
    "    \n",
    "    for t in reversed(range(len(reward))):\n",
    "        returns[t] = reward[t] + gamma * returns[t + 1]\n",
    "        advantage[t] = returns[t] - value[t]\n",
    "    \n",
    "    \n",
    "    # add entropy regularization\n",
    "    tau = 0.01\n",
    "    actor_loss = -(log_p * advantage.detach() + entropy).mean()\n",
    "    critic_loss = (torch.square(advantage)).mean()\n",
    "    \n",
    "    actor_opt.zero_grad()\n",
    "    critic_opt.zero_grad()\n",
    "    \n",
    "    actor_loss.backward()\n",
    "    critic_loss.backward()\n",
    "    \n",
    "    actor_opt.step()\n",
    "    critic_opt.step()\n",
    "\n",
    "env.close()\n",
    "print('Training time: {:.2f}s'.format(time.time() - start_time))"
   ]
  },
  {
   "cell_type": "code",
   "execution_count": 87,
   "metadata": {},
   "outputs": [
    {
     "name": "stdout",
     "output_type": "stream",
     "text": [
      "Successfully solve the problem in 101 iterations with entropy regularization.\n"
     ]
    },
    {
     "data": {
      "image/png": "[encoded data removed]",
      "text/plain": [
       "<Figure size 432x288 with 1 Axes>"
      ]
     },
     "metadata": {
      "needs_background": "light"
     },
     "output_type": "display_data"
    }
   ],
   "source": [
    "# this code should print success\n",
    "success_flag = False\n",
    "buffer_len = 100\n",
    "buffer_sum = sum(total_reward_with_entropy[:buffer_len])\n",
    "avg_reward_with_entropy = [buffer_sum / buffer_len]\n",
    "\n",
    "for num_iter in range(buffer_len, max_iter):\n",
    "    buffer_sum += total_reward_with_entropy[num_iter]\n",
    "    buffer_sum -= total_reward_with_entropy[num_iter - buffer_len]\n",
    "    buffer_avg = buffer_sum / buffer_len\n",
    "    avg_reward_with_entropy.append(buffer_avg)\n",
    "    \n",
    "    if buffer_avg >= env.spec.reward_threshold and not success_flag:\n",
    "        print('Successfully solve the problem in {} iterations with entropy regularization.'.format(num_iter + 1))\n",
    "        success_flag = True\n",
    "        \n",
    "if not success_flag:\n",
    "    print('Unfortunately the agent is not smart enough.')\n",
    "\n",
    "# plot the average reward curve through the training process\n",
    "plt.plot(range(buffer_len-1, max_iter), avg_reward, label=\"A2C\")\n",
    "plt.plot(range(buffer_len-1, max_iter), avg_reward_with_entropy, label=\"A2C with entropy regularization\")\n",
    "plt.legend()\n",
    "plt.show()"
   ]
  },
  {
   "cell_type": "markdown",
   "metadata": {},
   "source": [
    "### Next Steps\n",
    "\n",
    "For your own curiosity (you do not need to hand this in, it will not be graded), you can try the following in addition to the exercises:\n",
    "1. Try other environments in OpenAI Gym. You can do this by simply changing the argument in `env =  gym.make()`. For other environments, see [here](https://gym.openai.com/envs/#classic_control).\n",
    "2. Implement other RL algorithms and compare with A2C. For example, SARSA, PPO, TRPO, A3C, etc."
   ]
  }
 ],
 "metadata": {
  "kernelspec": {
   "display_name": "forl",
   "language": "python",
   "name": "forl"
  },
  "language_info": {
   "codemirror_mode": {
    "name": "ipython",
    "version": 3
   },
   "file_extension": ".py",
   "mimetype": "text/x-python",
   "name": "python",
   "nbconvert_exporter": "python",
   "pygments_lexer": "ipython3",
   "version": "3.8.12"
  }
 },
 "nbformat": 4,
 "nbformat_minor": 4
}
